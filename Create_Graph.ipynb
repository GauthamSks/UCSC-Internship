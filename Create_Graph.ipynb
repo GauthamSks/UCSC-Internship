{
  "nbformat": 4,
  "nbformat_minor": 0,
  "metadata": {
    "colab": {
      "name": "Create_Graph.ipynb",
      "provenance": []
    },
    "kernelspec": {
      "name": "python3",
      "display_name": "Python 3"
    },
    "language_info": {
      "name": "python"
    }
  },
  "cells": [
    {
      "cell_type": "markdown",
      "metadata": {
        "id": "aFkpqlRgWm76"
      },
      "source": [
        "# Dataset"
      ]
    },
    {
      "cell_type": "markdown",
      "metadata": {
        "id": "TA5sLLG-bhio"
      },
      "source": [
        "100 random images each of cats and dogs taken from **Dogs vs. Cats** kaggle dataset\n",
        "Link: https://www.kaggle.com/c/dogs-vs-cats/data"
      ]
    },
    {
      "cell_type": "code",
      "metadata": {
        "colab": {
          "base_uri": "https://localhost:8080/"
        },
        "id": "D0rzpOSfWuxi",
        "outputId": "eaba0e05-810a-4760-fca9-4cc27015c9e4"
      },
      "source": [
        "from google.colab import drive\n",
        "drive.mount('/content/drive')\n",
        "\n",
        "%cd /content/drive/MyDrive/Data/Cat_Vs_Dog"
      ],
      "execution_count": 10,
      "outputs": [
        {
          "output_type": "stream",
          "text": [
            "/content/drive/MyDrive/Data/Cat_Vs_Dog\n"
          ],
          "name": "stdout"
        }
      ]
    },
    {
      "cell_type": "code",
      "metadata": {
        "colab": {
          "base_uri": "https://localhost:8080/"
        },
        "id": "Ld9lLGc9b3ud",
        "outputId": "cd432a33-ec87-4aab-cb4e-474ec6361fd6"
      },
      "source": [
        "from tensorflow.keras.models import Model\n",
        "from tensorflow.keras import applications\n",
        "from tensorflow.keras.layers import Flatten\n",
        "\n",
        "VGG_16 = applications.VGG16(weights='imagenet', include_top=False, input_shape=(224, 224, 3))\n",
        "\n",
        "# Creating dictionary that maps layer names to the layers\n",
        "layer_dict = dict([(layer.name, layer) for layer in VGG_16.layers])\n",
        "\n",
        "OutPut = layer_dict['block5_pool'].output \n",
        "OutPut = Flatten()(OutPut)\n",
        "\n",
        "\n",
        "custom_model = Model(inputs=VGG_16.input, outputs=OutPut)\n",
        "\n",
        "# Make sure that the pre-trained bottom layers are not trainable\n",
        "for layer in custom_model.layers:\n",
        "    layer.trainable = False\n",
        "\n",
        "custom_model.summary()"
      ],
      "execution_count": 15,
      "outputs": [
        {
          "output_type": "stream",
          "text": [
            "Downloading data from https://storage.googleapis.com/tensorflow/keras-applications/vgg16/vgg16_weights_tf_dim_ordering_tf_kernels_notop.h5\n",
            "58892288/58889256 [==============================] - 0s 0us/step\n",
            "Model: \"model\"\n",
            "_________________________________________________________________\n",
            "Layer (type)                 Output Shape              Param #   \n",
            "=================================================================\n",
            "input_1 (InputLayer)         [(None, 224, 224, 3)]     0         \n",
            "_________________________________________________________________\n",
            "block1_conv1 (Conv2D)        (None, 224, 224, 64)      1792      \n",
            "_________________________________________________________________\n",
            "block1_conv2 (Conv2D)        (None, 224, 224, 64)      36928     \n",
            "_________________________________________________________________\n",
            "block1_pool (MaxPooling2D)   (None, 112, 112, 64)      0         \n",
            "_________________________________________________________________\n",
            "block2_conv1 (Conv2D)        (None, 112, 112, 128)     73856     \n",
            "_________________________________________________________________\n",
            "block2_conv2 (Conv2D)        (None, 112, 112, 128)     147584    \n",
            "_________________________________________________________________\n",
            "block2_pool (MaxPooling2D)   (None, 56, 56, 128)       0         \n",
            "_________________________________________________________________\n",
            "block3_conv1 (Conv2D)        (None, 56, 56, 256)       295168    \n",
            "_________________________________________________________________\n",
            "block3_conv2 (Conv2D)        (None, 56, 56, 256)       590080    \n",
            "_________________________________________________________________\n",
            "block3_conv3 (Conv2D)        (None, 56, 56, 256)       590080    \n",
            "_________________________________________________________________\n",
            "block3_pool (MaxPooling2D)   (None, 28, 28, 256)       0         \n",
            "_________________________________________________________________\n",
            "block4_conv1 (Conv2D)        (None, 28, 28, 512)       1180160   \n",
            "_________________________________________________________________\n",
            "block4_conv2 (Conv2D)        (None, 28, 28, 512)       2359808   \n",
            "_________________________________________________________________\n",
            "block4_conv3 (Conv2D)        (None, 28, 28, 512)       2359808   \n",
            "_________________________________________________________________\n",
            "block4_pool (MaxPooling2D)   (None, 14, 14, 512)       0         \n",
            "_________________________________________________________________\n",
            "block5_conv1 (Conv2D)        (None, 14, 14, 512)       2359808   \n",
            "_________________________________________________________________\n",
            "block5_conv2 (Conv2D)        (None, 14, 14, 512)       2359808   \n",
            "_________________________________________________________________\n",
            "block5_conv3 (Conv2D)        (None, 14, 14, 512)       2359808   \n",
            "_________________________________________________________________\n",
            "block5_pool (MaxPooling2D)   (None, 7, 7, 512)         0         \n",
            "_________________________________________________________________\n",
            "flatten (Flatten)            (None, 25088)             0         \n",
            "=================================================================\n",
            "Total params: 14,714,688\n",
            "Trainable params: 0\n",
            "Non-trainable params: 14,714,688\n",
            "_________________________________________________________________\n"
          ],
          "name": "stdout"
        }
      ]
    },
    {
      "cell_type": "code",
      "metadata": {
        "id": "j1QmdPfCdhtv"
      },
      "source": [
        "import os\n",
        "import random\n",
        "import numpy as np\n",
        "from tensorflow.keras.applications.vgg16 import preprocess_input\n",
        "from tensorflow.keras.preprocessing.image import load_img,img_to_array\n",
        "\n",
        "list_imgs = os.listdir()\n",
        "random.shuffle(list_imgs)\n",
        "\n",
        "pwd = '/content/drive/MyDrive/Data/Cat_Vs_Dog'\n",
        "\n",
        "VGG_Feature_Matrix = np.zeros((200,25088))\n",
        "\n",
        "for i,img_p in enumerate(list_imgs):\n",
        "  img_path = os.path.join(pwd,img_p)\n",
        "  image = load_img(img_path, target_size=(224, 224))\n",
        "  img_data = img_to_array(image)\n",
        "  img_data = np.expand_dims(img_data, axis=0)\n",
        "  img_data = preprocess_input(img_data)\n",
        "\n",
        "  feature = custom_model.predict(img_data)\n",
        "  feature = np.squeeze(feature)\n",
        "\n",
        "  VGG_Feature_Matrix[i] = feature"
      ],
      "execution_count": 19,
      "outputs": []
    },
    {
      "cell_type": "code",
      "metadata": {
        "id": "z3JGHUI1eO54"
      },
      "source": [
        "import torch\n",
        "import torch.nn.functional as F\n",
        "\n",
        "def cosDistance(features):\n",
        "    # features: N*M matrix. N features, each features is M-dimension.\n",
        "    features = F.normalize(features, dim=1) # each feature's l2-norm should be 1 \n",
        "    similarity_matrix = torch.matmul(features, features.T)\n",
        "    distance_matrix = 1.0 - similarity_matrix\n",
        "    return distance_matrix"
      ],
      "execution_count": 20,
      "outputs": []
    },
    {
      "cell_type": "code",
      "metadata": {
        "id": "KJ21hd55iAZa"
      },
      "source": [
        "cos_sim_mat = cosDistance(torch.from_numpy(VGG_Feature_Matrix))\n",
        "\n",
        "threshold = 0.5\n",
        "adj_matrix = torch.gt(cos_sim_mat, threshold).int() "
      ],
      "execution_count": 26,
      "outputs": []
    },
    {
      "cell_type": "code",
      "metadata": {
        "colab": {
          "base_uri": "https://localhost:8080/"
        },
        "id": "v5RRYLR1iHqH",
        "outputId": "e939b7bf-788c-4f34-936a-598d0edbd0df"
      },
      "source": [
        "adj_matrix"
      ],
      "execution_count": 27,
      "outputs": [
        {
          "output_type": "execute_result",
          "data": {
            "text/plain": [
              "tensor([[0, 1, 1,  ..., 1, 1, 1],\n",
              "        [1, 0, 1,  ..., 1, 1, 1],\n",
              "        [1, 1, 0,  ..., 1, 1, 1],\n",
              "        ...,\n",
              "        [1, 1, 1,  ..., 0, 1, 1],\n",
              "        [1, 1, 1,  ..., 1, 0, 1],\n",
              "        [1, 1, 1,  ..., 1, 1, 0]], dtype=torch.int32)"
            ]
          },
          "metadata": {
            "tags": []
          },
          "execution_count": 27
        }
      ]
    }
  ]
}